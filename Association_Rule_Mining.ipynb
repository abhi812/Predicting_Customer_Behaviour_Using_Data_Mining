{
 "cells": [
  {
   "cell_type": "code",
   "execution_count": 1,
   "metadata": {},
   "outputs": [],
   "source": [
    "#importing Libraries and data\n",
    "\n",
    "import pandas as pd\n",
    "data = pd.read_csv(\"data.csv\", header = None)\n",
    "dataset = data"
   ]
  },
  {
   "cell_type": "code",
   "execution_count": 2,
   "metadata": {},
   "outputs": [],
   "source": [
    "#formatting data\n",
    "\n",
    "df = dataset.T.apply(lambda x: x.dropna().tolist()).tolist()"
   ]
  },
  {
   "cell_type": "code",
   "execution_count": 3,
   "metadata": {},
   "outputs": [],
   "source": [
    "#function to implement the Apriori algorithm for frequent itemset generation.\n",
    "\n",
    "#For run-time meaurement\n",
    "\n",
    "import time\n",
    "start_time = time.time()\n",
    "\n",
    "#importing the required libraries\n",
    "\n",
    "from numpy import *\n",
    "\n",
    "k=1\n",
    "#Function to create one frequent itemset\n",
    "\n",
    "def createI1(df):\n",
    "    I1 = []               #I1 =one itemset list\n",
    "    for rows in df:\n",
    "        for elements in rows:\n",
    "            if not [elements] in I1:\n",
    "                I1.append([elements])             \n",
    "    I1.sort()\n",
    "    return list(map(frozenset, I1))\n",
    "\n",
    "# Function to prune any itemset with given minimum support\n",
    "\n",
    "def candidatePrune(data,candidateList, minSupport):\n",
    "    subsetCount = {}\n",
    "    for rows in data:\n",
    "        for candidate in candidateList:\n",
    "            if candidate.issubset(rows):\n",
    "                if not candidate in subsetCount:\n",
    "                    subsetCount[candidate] = 1   \n",
    "                else:\n",
    "                    subsetCount[candidate] +=1    \n",
    "    prunedList = []\n",
    "    supportData = {}\n",
    "    \n",
    "    for key in subsetCount:\n",
    "        support = subsetCount[key]/float(len(data))\n",
    "        if support >= minSupport:\n",
    "            prunedList.insert(0,key)\n",
    "        supportData[key] = support\n",
    "    return prunedList, supportData\n",
    "\n",
    "#Function for candidate itemset generation\n",
    "\n",
    "def candidateGen(freqItemset, itemsetSize):\n",
    "    candidateItemset = []\n",
    "    lengthFI = len(freqItemset)\n",
    "    for i in range(lengthFI):\n",
    "        for j in range(i+1, lengthFI):\n",
    "            L1 = list(freqItemset[i])[: k-2]\n",
    "            L2 = list(freqItemset[j])[:k-2]\n",
    "            L1.sort()\n",
    "            L2.sort()\n",
    "            if L1==L2:\n",
    "                candidateItemset.append(freqItemset[i] | freqItemset[j])\n",
    "    return candidateItemset\n",
    "\n",
    "################################################################################\n",
    "#Main apriori algorithm\n",
    "\n",
    "def apriori(dataset, minSupport = 0.01):\n",
    "    I1 = createI1(dataset)\n",
    "    data = list(map(set, dataset))\n",
    "    prunedList1, supportData = candidatePrune(data, I1, minSupport)\n",
    "    prunedList= [prunedList1]\n",
    "    k=2\n",
    "    while (len(prunedList[k-2]) > 0):\n",
    "        canItem = candidateGen(prunedList[k-2],k)\n",
    "        canPruned, canSupport = candidatePrune(data, canItem, minSupport)\n",
    "        supportData.update(canSupport)\n",
    "        prunedList.append(canPruned)\n",
    "        k=k+1\n",
    "        \n",
    "    return prunedList, supportData\n"
   ]
  },
  {
   "cell_type": "code",
   "execution_count": 4,
   "metadata": {
    "scrolled": false
   },
   "outputs": [],
   "source": [
    "#running the apriori algorithm\n",
    "freqItemset, supportData = apriori(df)"
   ]
  },
  {
   "cell_type": "code",
   "execution_count": 5,
   "metadata": {},
   "outputs": [
    {
     "data": {
      "text/plain": [
       "159"
      ]
     },
     "execution_count": 5,
     "metadata": {},
     "output_type": "execute_result"
    }
   ],
   "source": [
    "length =0\n",
    "for i in range(0,len(freqItemset)):\n",
    "    length = length + len(freqItemset[i])\n",
    "length"
   ]
  },
  {
   "cell_type": "code",
   "execution_count": 6,
   "metadata": {},
   "outputs": [
    {
     "name": "stdout",
     "output_type": "stream",
     "text": [
      "---187.8123676776886 seconds ---\n"
     ]
    }
   ],
   "source": [
    "#getting the run-time estimates\n",
    "print(\"---%s seconds ---\" % (time.time()-start_time))"
   ]
  },
  {
   "cell_type": "code",
   "execution_count": 7,
   "metadata": {},
   "outputs": [],
   "source": [
    "#function to implement the simple randomized algorithm for frequent itemset generation.\n",
    "\n",
    "# for selecting dataset I have used random sampling using the percentage of data \n",
    "p = 0.10      #select percentage of samples\n",
    "n = int(p*len(dataset)) # total number of samples\n",
    "import random\n",
    "# randomly select given number of samples\n",
    "df1 = random.choices(df,k =n)"
   ]
  },
  {
   "cell_type": "code",
   "execution_count": 8,
   "metadata": {},
   "outputs": [],
   "source": [
    "\n",
    "#For run-time meaurement\n",
    "import time\n",
    "start_time = time.time()\n",
    "\n",
    "#importing the required libraries\n",
    "from numpy import *\n",
    "\n",
    "k=1\n",
    "#Function to create one frequent itemset\n",
    "def createI1(df1):\n",
    "    I1 = []               #I1 =one itemset list\n",
    "    for rows in df1:\n",
    "        for elements in rows:\n",
    "            if not [elements] in I1:\n",
    "                I1.append([elements])             \n",
    "    I1.sort()\n",
    "    return list(map(frozenset, I1))\n",
    "# Function to prune any itemset with given minimum support\n",
    "def candidatePrune(data,candidateList, minSupport):\n",
    "    subsetCount = {}\n",
    "    for rows in data:\n",
    "        for candidate in candidateList:\n",
    "            if candidate.issubset(rows):\n",
    "                if not candidate in subsetCount:\n",
    "                    subsetCount[candidate] = 1   \n",
    "                else:\n",
    "                    subsetCount[candidate] +=1    \n",
    "    prunedList = []\n",
    "    supportData = {}\n",
    "    \n",
    "    for key in subsetCount:\n",
    "        support = subsetCount[key]/float(len(data))\n",
    "        if support >= minSupport:\n",
    "            prunedList.insert(0,key)\n",
    "        supportData[key] = support\n",
    "    return prunedList, supportData\n",
    "#Function for candidate itemset generation\n",
    "def candidateGen(freqItemset, itemsetSize):\n",
    "    candidateItemset = []\n",
    "    lengthFI = len(freqItemset)\n",
    "    for i in range(lengthFI):\n",
    "        for j in range(i+1, lengthFI):\n",
    "            L1 = list(freqItemset[i])[: k-2]\n",
    "            L2 = list(freqItemset[j])[:k-2]\n",
    "            L1.sort()\n",
    "            L2.sort()\n",
    "            if L1==L2:\n",
    "                candidateItemset.append(freqItemset[i] | freqItemset[j])\n",
    "    return candidateItemset\n",
    "\n",
    "###########################################\n",
    "#Main apriori algorithm\n",
    "\n",
    "def apriori(dataset, minSupport = 0.01):\n",
    "    I1 = createI1(dataset)\n",
    "    data = list(map(set, dataset))\n",
    "    prunedList1, supportData = candidatePrune(data, I1, minSupport)\n",
    "    prunedList= [prunedList1]\n",
    "    k=2\n",
    "    while (len(prunedList[k-2]) > 0):\n",
    "        canItem = candidateGen(prunedList[k-2],k)\n",
    "        canPruned, canSupport = candidatePrune(data, canItem, minSupport)\n",
    "        supportData.update(canSupport)\n",
    "        prunedList.append(canPruned)\n",
    "        k=k+1\n",
    "        \n",
    "    return prunedList, supportData"
   ]
  },
  {
   "cell_type": "code",
   "execution_count": 9,
   "metadata": {},
   "outputs": [],
   "source": [
    "freqItemset, supportData = apriori(df1)"
   ]
  },
  {
   "cell_type": "code",
   "execution_count": 10,
   "metadata": {},
   "outputs": [
    {
     "data": {
      "text/plain": [
       "162"
      ]
     },
     "execution_count": 10,
     "metadata": {},
     "output_type": "execute_result"
    }
   ],
   "source": [
    "length =0\n",
    "for i in range(0,len(freqItemset)):\n",
    "    length = length + len(freqItemset[i])\n",
    "length"
   ]
  },
  {
   "cell_type": "code",
   "execution_count": 11,
   "metadata": {},
   "outputs": [
    {
     "name": "stdout",
     "output_type": "stream",
     "text": [
      "---20.533121347427368 seconds ---\n"
     ]
    }
   ],
   "source": [
    "print(\"---%s seconds ---\" % (time.time()-start_time))"
   ]
  },
  {
   "cell_type": "code",
   "execution_count": 12,
   "metadata": {},
   "outputs": [],
   "source": [
    "#Function to create rules for associaiton analysis\n",
    "def ruleGeneration (freqItemset, supportData, minConf =0.05):\n",
    "    ruleList = []\n",
    "    k = len(freqItemset)\n",
    "    for i in range (1, k):\n",
    "        for freqSet in freqItemset[i]:\n",
    "            H1 = [frozenset ([item]) for item in freqSet]\n",
    "            if(i>1):\n",
    "                conseqRules(freqSet, H1, supportData, ruleList, minConf)\n",
    "            else:\n",
    "                calculateConfidence(freqSet, H1, supportData, ruleList, minConf)\n",
    "    return ruleList\n",
    "def calculateConfidence(freqSet, H, supportData, ruleList1, minConf=0.05):\n",
    "    prunedH = []\n",
    "    for consequent in H:\n",
    "        confidence = supportData[freqSet] / supportData[freqSet-consequent]\n",
    "        if confidence >= minConf:\n",
    "            print (freqSet-consequent, '-->', consequent, 'confVal=', round(confidence,4),\n",
    "                   'support = ', round(supportData[consequent],3), 'lift = ', round(confidence/supportData[consequent],3))\n",
    "            ruleList1.append((freqSet-consequent, consequent, confidence))\n",
    "            prunedH.append(consequent)\n",
    "    return prunedH\n",
    "def conseqRules(freqSet, H, supportData, ruleList1, minConf=0.05):\n",
    "    k = len(freqSet)\n",
    "    m = len(H[0])\n",
    "    if (k > (m+1)):\n",
    "        Hmplus1 = candidateGen(H, m+1)\n",
    "        Hmplus1 = calculateConfidence(freqSet, Hmplus1, supportData, ruleList1, minConf)\n",
    "        if (len(Hmplus1)>1):\n",
    "            conseqRules(freqSet, Hmplus1, supportData, ruleList1, minConf)"
   ]
  },
  {
   "cell_type": "code",
   "execution_count": 13,
   "metadata": {
    "scrolled": false
   },
   "outputs": [
    {
     "name": "stdout",
     "output_type": "stream",
     "text": [
      "frozenset({14099.0}) --> frozenset({40.0}) confVal= 0.6118 support =  0.582 lift =  1.051\n",
      "frozenset({287.0}) --> frozenset({39.0}) confVal= 0.9262 support =  0.179 lift =  5.185\n",
      "frozenset({39.0}) --> frozenset({287.0}) confVal= 0.0717 support =  0.014 lift =  5.185\n",
      "frozenset({80.0}) --> frozenset({40.0}) confVal= 0.6813 support =  0.582 lift =  1.17\n",
      "frozenset({80.0}) --> frozenset({49.0}) confVal= 0.5625 support =  0.481 lift =  1.17\n",
      "frozenset({256.0}) --> frozenset({40.0}) confVal= 0.7597 support =  0.582 lift =  1.305\n",
      "frozenset({39.0}) --> frozenset({38.0}) confVal= 0.0698 support =  0.013 lift =  5.401\n",
      "frozenset({38.0}) --> frozenset({39.0}) confVal= 0.9649 support =  0.179 lift =  5.401\n",
      "frozenset({12926.0}) --> frozenset({40.0}) confVal= 0.6824 support =  0.582 lift =  1.172\n",
      "frozenset({42.0}) --> frozenset({226.0}) confVal= 0.0618 support =  0.039 lift =  1.592\n",
      "frozenset({226.0}) --> frozenset({42.0}) confVal= 0.2749 support =  0.173 lift =  1.592\n",
      "frozenset({256.0}) --> frozenset({49.0}) confVal= 0.7338 support =  0.481 lift =  1.526\n",
      "frozenset({272.0}) --> frozenset({40.0}) confVal= 0.7206 support =  0.582 lift =  1.237\n",
      "frozenset({271.0}) --> frozenset({40.0}) confVal= 0.6774 support =  0.582 lift =  1.163\n",
      "frozenset({1147.0}) --> frozenset({40.0}) confVal= 0.6897 support =  0.582 lift =  1.184\n",
      "frozenset({476.0}) --> frozenset({49.0}) confVal= 0.6493 support =  0.481 lift =  1.35\n",
      "frozenset({148.0}) --> frozenset({49.0}) confVal= 0.6032 support =  0.481 lift =  1.254\n",
      "frozenset({311.0}) --> frozenset({49.0}) confVal= 0.6772 support =  0.481 lift =  1.408\n",
      "frozenset({311.0}) --> frozenset({40.0}) confVal= 0.7283 support =  0.582 lift =  1.251\n",
      "frozenset({414.0}) --> frozenset({40.0}) confVal= 0.5376 support =  0.582 lift =  0.923\n",
      "frozenset({414.0}) --> frozenset({49.0}) confVal= 0.5914 support =  0.481 lift =  1.23\n",
      "frozenset({171.0}) --> frozenset({49.0}) confVal= 0.5324 support =  0.481 lift =  1.107\n",
      "frozenset({1328.0}) --> frozenset({40.0}) confVal= 0.6784 support =  0.582 lift =  1.165\n",
      "frozenset({1328.0}) --> frozenset({49.0}) confVal= 0.5497 support =  0.481 lift =  1.143\n",
      "frozenset({39.0}) --> frozenset({33.0}) confVal= 0.1867 support =  0.174 lift =  1.073\n",
      "frozenset({33.0}) --> frozenset({39.0}) confVal= 0.1918 support =  0.179 lift =  1.073\n",
      "frozenset({148.0}) --> frozenset({40.0}) confVal= 0.6561 support =  0.582 lift =  1.127\n",
      "frozenset({272.0}) --> frozenset({49.0}) confVal= 0.5392 support =  0.481 lift =  1.121\n",
      "frozenset({476.0}) --> frozenset({40.0}) confVal= 0.6919 support =  0.582 lift =  1.188\n",
      "frozenset({50.0}) --> frozenset({49.0}) confVal= 0.7417 support =  0.481 lift =  1.542\n",
      "frozenset({102.0}) --> frozenset({40.0}) confVal= 0.6557 support =  0.582 lift =  1.126\n",
      "frozenset({102.0}) --> frozenset({49.0}) confVal= 0.6321 support =  0.481 lift =  1.314\n",
      "frozenset({111.0}) --> frozenset({40.0}) confVal= 0.6781 support =  0.582 lift =  1.164\n",
      "frozenset({111.0}) --> frozenset({39.0}) confVal= 0.9863 support =  0.179 lift =  5.521\n",
      "frozenset({39.0}) --> frozenset({111.0}) confVal= 0.1829 support =  0.033 lift =  5.521\n",
      "frozenset({111.0}) --> frozenset({49.0}) confVal= 0.5103 support =  0.481 lift =  1.061\n",
      "frozenset({37.0}) --> frozenset({40.0}) confVal= 0.676 support =  0.582 lift =  1.161\n",
      "frozenset({39.0}) --> frozenset({37.0}) confVal= 0.1905 support =  0.036 lift =  5.231\n",
      "frozenset({37.0}) --> frozenset({39.0}) confVal= 0.9346 support =  0.179 lift =  5.231\n",
      "frozenset({37.0}) --> frozenset({49.0}) confVal= 0.4704 support =  0.481 lift =  0.978\n",
      "frozenset({238.0}) --> frozenset({40.0}) confVal= 0.5955 support =  0.582 lift =  1.023\n",
      "frozenset({238.0}) --> frozenset({49.0}) confVal= 0.5573 support =  0.481 lift =  1.159\n",
      "frozenset({66.0}) --> frozenset({42.0}) confVal= 0.2086 support =  0.173 lift =  1.208\n",
      "frozenset({42.0}) --> frozenset({66.0}) confVal= 0.0604 support =  0.05 lift =  1.208\n",
      "frozenset({439.0}) --> frozenset({40.0}) confVal= 0.6471 support =  0.582 lift =  1.111\n",
      "frozenset({439.0}) --> frozenset({49.0}) confVal= 0.5508 support =  0.481 lift =  1.145\n",
      "frozenset({226.0}) --> frozenset({40.0}) confVal= 0.7339 support =  0.582 lift =  1.26\n",
      "frozenset({42.0}) --> frozenset({33.0}) confVal= 0.2194 support =  0.174 lift =  1.262\n",
      "frozenset({33.0}) --> frozenset({42.0}) confVal= 0.2179 support =  0.173 lift =  1.262\n",
      "frozenset({33.0}) --> frozenset({40.0}) confVal= 0.5753 support =  0.582 lift =  0.988\n",
      "frozenset({40.0}) --> frozenset({33.0}) confVal= 0.1718 support =  0.174 lift =  0.988\n",
      "frozenset({33.0}) --> frozenset({49.0}) confVal= 0.5127 support =  0.481 lift =  1.066\n",
      "frozenset({49.0}) --> frozenset({33.0}) confVal= 0.1854 support =  0.174 lift =  1.066\n",
      "frozenset({42.0}) --> frozenset({49.0}) confVal= 0.5848 support =  0.481 lift =  1.216\n",
      "frozenset({49.0}) --> frozenset({42.0}) confVal= 0.2099 support =  0.173 lift =  1.216\n",
      "frozenset({90.0}) --> frozenset({40.0}) confVal= 0.7232 support =  0.582 lift =  1.242\n",
      "frozenset({90.0}) --> frozenset({49.0}) confVal= 0.7627 support =  0.481 lift =  1.586\n",
      "frozenset({49.0}) --> frozenset({90.0}) confVal= 0.0637 support =  0.04 lift =  1.586\n",
      "frozenset({2239.0}) --> frozenset({40.0}) confVal= 0.7785 support =  0.582 lift =  1.337\n",
      "frozenset({49.0}) --> frozenset({40.0}) confVal= 0.6981 support =  0.582 lift =  1.199\n",
      "frozenset({40.0}) --> frozenset({49.0}) confVal= 0.5765 support =  0.481 lift =  1.199\n",
      "frozenset({66.0}) --> frozenset({49.0}) confVal= 0.5397 support =  0.481 lift =  1.122\n",
      "frozenset({49.0}) --> frozenset({66.0}) confVal= 0.0561 support =  0.05 lift =  1.122\n",
      "frozenset({39.0}) --> frozenset({49.0}) confVal= 0.5124 support =  0.481 lift =  1.065\n",
      "frozenset({49.0}) --> frozenset({39.0}) confVal= 0.1903 support =  0.179 lift =  1.065\n",
      "frozenset({226.0}) --> frozenset({49.0}) confVal= 0.5526 support =  0.481 lift =  1.149\n",
      "frozenset({39.0}) --> frozenset({40.0}) confVal= 0.6654 support =  0.582 lift =  1.143\n",
      "frozenset({40.0}) --> frozenset({39.0}) confVal= 0.2041 support =  0.179 lift =  1.143\n",
      "frozenset({42.0}) --> frozenset({40.0}) confVal= 0.7714 support =  0.582 lift =  1.325\n",
      "frozenset({40.0}) --> frozenset({42.0}) confVal= 0.2287 support =  0.173 lift =  1.325\n",
      "frozenset({39.0}) --> frozenset({42.0}) confVal= 0.2686 support =  0.173 lift =  1.556\n",
      "frozenset({42.0}) --> frozenset({39.0}) confVal= 0.2779 support =  0.179 lift =  1.556\n",
      "frozenset({171.0}) --> frozenset({40.0}) confVal= 0.6553 support =  0.582 lift =  1.125\n",
      "frozenset({39.0}) --> frozenset({171.0}) confVal= 0.1816 support =  0.033 lift =  5.464\n",
      "frozenset({171.0}) --> frozenset({39.0}) confVal= 0.9761 support =  0.179 lift =  5.464\n",
      "frozenset({171.0}) --> frozenset({42.0}) confVal= 0.314 support =  0.173 lift =  1.819\n",
      "frozenset({42.0}) --> frozenset({171.0}) confVal= 0.0604 support =  0.033 lift =  1.819\n",
      "frozenset({61.0}) --> frozenset({40.0}) confVal= 0.6408 support =  0.582 lift =  1.1\n",
      "frozenset({66.0}) --> frozenset({40.0}) confVal= 0.6508 support =  0.582 lift =  1.118\n",
      "frozenset({40.0}) --> frozenset({66.0}) confVal= 0.0559 support =  0.05 lift =  1.118\n",
      "frozenset({741.0}) --> frozenset({40.0}) confVal= 0.76 support =  0.582 lift =  1.305\n",
      "frozenset({256.0}) --> frozenset({40.0, 49.0}) confVal= 0.6169 support =  0.336 lift =  1.837\n",
      "frozenset({33.0}) --> frozenset({49.0, 39.0}) confVal= 0.1109 support =  0.092 lift =  1.211\n",
      "frozenset({39.0}) --> frozenset({49.0, 33.0}) confVal= 0.1079 support =  0.089 lift =  1.211\n",
      "frozenset({39.0}) --> frozenset({40.0, 33.0}) confVal= 0.1219 support =  0.1 lift =  1.218\n",
      "frozenset({33.0}) --> frozenset({40.0, 39.0}) confVal= 0.1252 support =  0.119 lift =  1.054\n",
      "frozenset({476.0}) --> frozenset({40.0, 49.0}) confVal= 0.4929 support =  0.336 lift =  1.468\n",
      "frozenset({171.0}) --> frozenset({40.0, 49.0}) confVal= 0.4266 support =  0.336 lift =  1.271\n",
      "frozenset({311.0}) --> frozenset({40.0, 49.0}) confVal= 0.5276 support =  0.336 lift =  1.571\n",
      "frozenset({39.0}) --> frozenset({49.0, 171.0}) confVal= 0.0984 support =  0.018 lift =  5.562\n",
      "frozenset({171.0}) --> frozenset({49.0, 39.0}) confVal= 0.529 support =  0.092 lift =  5.779\n",
      "frozenset({111.0}) --> frozenset({49.0, 39.0}) confVal= 0.5068 support =  0.092 lift =  5.537\n",
      "frozenset({39.0}) --> frozenset({49.0, 111.0}) confVal= 0.094 support =  0.017 lift =  5.56\n",
      "frozenset({111.0}) --> frozenset({40.0, 39.0}) confVal= 0.6747 support =  0.119 lift =  5.675\n",
      "frozenset({39.0}) --> frozenset({40.0, 111.0}) confVal= 0.1251 support =  0.022 lift =  5.569\n",
      "frozenset({111.0}) --> frozenset({40.0, 49.0}) confVal= 0.4281 support =  0.336 lift =  1.275\n",
      "frozenset({102.0}) --> frozenset({40.0, 49.0}) confVal= 0.4717 support =  0.336 lift =  1.405\n",
      "frozenset({42.0}) --> frozenset({40.0, 33.0}) confVal= 0.1721 support =  0.1 lift =  1.721\n",
      "frozenset({33.0}) --> frozenset({40.0, 42.0}) confVal= 0.1709 support =  0.133 lift =  1.283\n",
      "frozenset({40.0}) --> frozenset({33.0, 42.0}) confVal= 0.051 support =  0.038 lift =  1.347\n",
      "frozenset({39.0}) --> frozenset({40.0, 49.0}) confVal= 0.4095 support =  0.336 lift =  1.22\n",
      "frozenset({49.0}) --> frozenset({40.0, 39.0}) confVal= 0.1521 support =  0.119 lift =  1.28\n",
      "frozenset({40.0}) --> frozenset({49.0, 39.0}) confVal= 0.1256 support =  0.092 lift =  1.372\n",
      "frozenset({238.0}) --> frozenset({40.0, 49.0}) confVal= 0.3917 support =  0.336 lift =  1.167\n",
      "frozenset({39.0}) --> frozenset({49.0, 37.0}) confVal= 0.0927 support =  0.017 lift =  5.412\n",
      "frozenset({37.0}) --> frozenset({49.0, 39.0}) confVal= 0.4548 support =  0.092 lift =  4.969\n",
      "frozenset({39.0}) --> frozenset({40.0, 37.0}) confVal= 0.1276 support =  0.025 lift =  5.185\n",
      "frozenset({37.0}) --> frozenset({40.0, 39.0}) confVal= 0.6262 support =  0.119 lift =  5.267\n",
      "frozenset({37.0}) --> frozenset({40.0, 49.0}) confVal= 0.3832 support =  0.336 lift =  1.141\n",
      "frozenset({42.0}) --> frozenset({40.0, 49.0}) confVal= 0.4921 support =  0.336 lift =  1.466\n",
      "frozenset({49.0}) --> frozenset({40.0, 42.0}) confVal= 0.1767 support =  0.133 lift =  1.327\n",
      "frozenset({40.0}) --> frozenset({49.0, 42.0}) confVal= 0.1459 support =  0.101 lift =  1.445\n",
      "frozenset({226.0}) --> frozenset({40.0, 49.0}) confVal= 0.4327 support =  0.336 lift =  1.289\n",
      "frozenset({33.0}) --> frozenset({49.0, 42.0}) confVal= 0.1337 support =  0.101 lift =  1.325\n",
      "frozenset({42.0}) --> frozenset({49.0, 33.0}) confVal= 0.1347 support =  0.089 lift =  1.511\n",
      "frozenset({49.0}) --> frozenset({40.0, 33.0}) confVal= 0.1307 support =  0.1 lift =  1.306\n",
      "frozenset({33.0}) --> frozenset({40.0, 49.0}) confVal= 0.3614 support =  0.336 lift =  1.076\n",
      "frozenset({40.0}) --> frozenset({33.0, 49.0}) confVal= 0.1079 support =  0.089 lift =  1.21\n",
      "frozenset({39.0}) --> frozenset({49.0, 42.0}) confVal= 0.1556 support =  0.101 lift =  1.541\n",
      "frozenset({42.0}) --> frozenset({49.0, 39.0}) confVal= 0.161 support =  0.092 lift =  1.759\n",
      "frozenset({49.0}) --> frozenset({42.0, 39.0}) confVal= 0.0578 support =  0.048 lift =  1.204\n",
      "frozenset({90.0}) --> frozenset({40.0, 49.0}) confVal= 0.596 support =  0.336 lift =  1.775\n",
      "frozenset({66.0}) --> frozenset({40.0, 49.0}) confVal= 0.3946 support =  0.336 lift =  1.175\n",
      "frozenset({39.0}) --> frozenset({42.0, 171.0}) confVal= 0.0584 support =  0.01 lift =  5.597\n",
      "frozenset({171.0}) --> frozenset({42.0, 39.0}) confVal= 0.314 support =  0.048 lift =  6.544\n",
      "frozenset({42.0}) --> frozenset({171.0, 39.0}) confVal= 0.0604 support =  0.032 lift =  1.863\n",
      "frozenset({39.0}) --> frozenset({40.0, 171.0}) confVal= 0.1187 support =  0.022 lift =  5.452\n",
      "frozenset({171.0}) --> frozenset({40.0, 39.0}) confVal= 0.6382 support =  0.119 lift =  5.369\n",
      "frozenset({39.0}) --> frozenset({40.0, 42.0}) confVal= 0.2089 support =  0.133 lift =  1.569\n",
      "frozenset({42.0}) --> frozenset({40.0, 39.0}) confVal= 0.2162 support =  0.119 lift =  1.818\n",
      "frozenset({40.0}) --> frozenset({42.0, 39.0}) confVal= 0.0641 support =  0.048 lift =  1.336\n",
      "frozenset({40.0, 39.0}) --> frozenset({33.0, 49.0}) confVal= 0.1288 support =  0.089 lift =  1.445\n",
      "frozenset({49.0, 39.0}) --> frozenset({40.0, 33.0}) confVal= 0.1673 support =  0.1 lift =  1.672\n",
      "frozenset({40.0, 33.0}) --> frozenset({49.0, 39.0}) confVal= 0.1531 support =  0.092 lift =  1.672\n",
      "frozenset({33.0, 39.0}) --> frozenset({40.0, 49.0}) confVal= 0.4592 support =  0.336 lift =  1.368\n",
      "frozenset({33.0, 49.0}) --> frozenset({40.0, 39.0}) confVal= 0.1718 support =  0.119 lift =  1.445\n",
      "frozenset({39.0}) --> frozenset({40.0, 33.0, 49.0}) confVal= 0.0857 support =  0.063 lift =  1.364\n",
      "frozenset({33.0}) --> frozenset({40.0, 49.0, 39.0}) confVal= 0.0881 support =  0.073 lift =  1.204\n",
      "frozenset({40.0, 42.0}) --> frozenset({49.0, 39.0}) confVal= 0.1865 support =  0.092 lift =  2.038\n",
      "frozenset({42.0, 39.0}) --> frozenset({40.0, 49.0}) confVal= 0.5177 support =  0.336 lift =  1.542\n",
      "frozenset({40.0, 39.0}) --> frozenset({49.0, 42.0}) confVal= 0.209 support =  0.101 lift =  2.07\n",
      "frozenset({49.0, 42.0}) --> frozenset({40.0, 39.0}) confVal= 0.2461 support =  0.119 lift =  2.07\n",
      "frozenset({40.0, 49.0}) --> frozenset({42.0, 39.0}) confVal= 0.074 support =  0.048 lift =  1.542\n",
      "frozenset({49.0, 39.0}) --> frozenset({40.0, 42.0}) confVal= 0.2714 support =  0.133 lift =  2.038\n",
      "frozenset({42.0}) --> frozenset({40.0, 49.0, 39.0}) confVal= 0.1439 support =  0.073 lift =  1.967\n",
      "frozenset({39.0}) --> frozenset({40.0, 49.0, 42.0}) confVal= 0.139 support =  0.085 lift =  1.637\n",
      "frozenset({49.0}) --> frozenset({40.0, 42.0, 39.0}) confVal= 0.0517 support =  0.037 lift =  1.384\n",
      "frozenset({40.0, 171.0}) --> frozenset({49.0, 39.0}) confVal= 0.6458 support =  0.092 lift =  7.055\n",
      "frozenset({171.0, 39.0}) --> frozenset({40.0, 49.0}) confVal= 0.4336 support =  0.336 lift =  1.291\n",
      "frozenset({40.0, 39.0}) --> frozenset({49.0, 171.0}) confVal= 0.1183 support =  0.018 lift =  6.687\n",
      "frozenset({49.0, 171.0}) --> frozenset({40.0, 39.0}) confVal= 0.7949 support =  0.119 lift =  6.687\n",
      "frozenset({49.0, 39.0}) --> frozenset({40.0, 171.0}) confVal= 0.1537 support =  0.022 lift =  7.055\n",
      "frozenset({171.0}) --> frozenset({40.0, 49.0, 39.0}) confVal= 0.4232 support =  0.073 lift =  5.785\n",
      "frozenset({39.0}) --> frozenset({40.0, 49.0, 171.0}) confVal= 0.0787 support =  0.014 lift =  5.553\n",
      "frozenset({40.0, 42.0}) --> frozenset({33.0, 49.0}) confVal= 0.1457 support =  0.089 lift =  1.634\n",
      "frozenset({49.0, 42.0}) --> frozenset({40.0, 33.0}) confVal= 0.1921 support =  0.1 lift =  1.92\n",
      "frozenset({40.0, 49.0}) --> frozenset({33.0, 42.0}) confVal= 0.0578 support =  0.038 lift =  1.525\n",
      "frozenset({33.0, 42.0}) --> frozenset({40.0, 49.0}) confVal= 0.512 support =  0.336 lift =  1.525\n",
      "frozenset({40.0, 33.0}) --> frozenset({49.0, 42.0}) confVal= 0.1939 support =  0.101 lift =  1.92\n",
      "frozenset({33.0, 49.0}) --> frozenset({40.0, 42.0}) confVal= 0.2176 support =  0.133 lift =  1.634\n",
      "frozenset({42.0}) --> frozenset({40.0, 33.0, 49.0}) confVal= 0.1124 support =  0.063 lift =  1.788\n",
      "frozenset({33.0}) --> frozenset({40.0, 49.0, 42.0}) confVal= 0.1115 support =  0.085 lift =  1.313\n",
      "frozenset({40.0, 111.0}) --> frozenset({49.0, 39.0}) confVal= 0.6313 support =  0.092 lift =  6.897\n",
      "frozenset({111.0, 39.0}) --> frozenset({40.0, 49.0}) confVal= 0.434 support =  0.336 lift =  1.293\n",
      "frozenset({40.0, 39.0}) --> frozenset({49.0, 111.0}) confVal= 0.1193 support =  0.017 lift =  7.057\n",
      "frozenset({49.0, 111.0}) --> frozenset({40.0, 39.0}) confVal= 0.8389 support =  0.119 lift =  7.057\n",
      "frozenset({49.0, 39.0}) --> frozenset({40.0, 111.0}) confVal= 0.1549 support =  0.022 lift =  6.897\n",
      "frozenset({111.0}) --> frozenset({40.0, 49.0, 39.0}) confVal= 0.4281 support =  0.073 lift =  5.851\n",
      "frozenset({39.0}) --> frozenset({40.0, 49.0, 111.0}) confVal= 0.0794 support =  0.014 lift =  5.597\n",
      "frozenset({40.0, 39.0}) --> frozenset({49.0, 37.0}) confVal= 0.1135 support =  0.017 lift =  6.629\n",
      "frozenset({40.0, 37.0}) --> frozenset({49.0, 39.0}) confVal= 0.5484 support =  0.092 lift =  5.991\n",
      "frozenset({37.0, 39.0}) --> frozenset({40.0, 49.0}) confVal= 0.3967 support =  0.336 lift =  1.181\n",
      "frozenset({49.0, 39.0}) --> frozenset({40.0, 37.0}) confVal= 0.1475 support =  0.025 lift =  5.991\n",
      "frozenset({49.0, 37.0}) --> frozenset({40.0, 39.0}) confVal= 0.7881 support =  0.119 lift =  6.629\n",
      "frozenset({39.0}) --> frozenset({40.0, 49.0, 37.0}) confVal= 0.0756 support =  0.014 lift =  5.415\n",
      "frozenset({37.0}) --> frozenset({40.0, 49.0, 39.0}) confVal= 0.3707 support =  0.073 lift =  5.067\n"
     ]
    }
   ],
   "source": [
    "rulesGenerated = ruleGeneration(freqItemset, supportData, minConf=0.05)"
   ]
  },
  {
   "cell_type": "code",
   "execution_count": 14,
   "metadata": {},
   "outputs": [
    {
     "data": {
      "text/plain": [
       "176"
      ]
     },
     "execution_count": 14,
     "metadata": {},
     "output_type": "execute_result"
    }
   ],
   "source": [
    "len(rulesGenerated)"
   ]
  },
  {
   "cell_type": "code",
   "execution_count": null,
   "metadata": {},
   "outputs": [],
   "source": []
  }
 ],
 "metadata": {
  "kernelspec": {
   "display_name": "Python 3",
   "language": "python",
   "name": "python3"
  },
  "language_info": {
   "codemirror_mode": {
    "name": "ipython",
    "version": 3
   },
   "file_extension": ".py",
   "mimetype": "text/x-python",
   "name": "python",
   "nbconvert_exporter": "python",
   "pygments_lexer": "ipython3",
   "version": "3.6.10"
  }
 },
 "nbformat": 4,
 "nbformat_minor": 2
}
